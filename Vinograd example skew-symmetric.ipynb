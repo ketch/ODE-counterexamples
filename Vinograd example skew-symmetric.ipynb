{
 "cells": [
  {
   "cell_type": "code",
   "execution_count": null,
   "metadata": {},
   "outputs": [],
   "source": [
    "import numpy as np\n",
    "import matplotlib.pyplot as plt\n",
    "from nodepy import rk, ivp"
   ]
  },
  {
   "cell_type": "code",
   "execution_count": null,
   "metadata": {},
   "outputs": [],
   "source": [
    "omega = 6.\n",
    "theta = np.pi/4\n",
    "d1 = -1.\n",
    "d2 = -10.\n",
    "D = np.diag([d1,d2])\n",
    "\n",
    "def rhs(t,u):\n",
    "    E = np.array([[np.cos(omega*t-theta),-np.cos(omega*t)],[-np.sin(omega*t-theta),np.sin(omega*t)]])\n",
    "    Einv = np.linalg.inv(E)\n",
    "    A = np.dot(E,np.dot(D,Einv))\n",
    "    #print(np.linalg.eigvals(A))\n",
    "    #print(np.dot(A,A.T)-np.dot(A.T,A))\n",
    "    #print((A+A.T))\n",
    "    return np.dot(A,u)"
   ]
  },
  {
   "cell_type": "code",
   "execution_count": null,
   "metadata": {},
   "outputs": [],
   "source": [
    "theta = np.arctan(3/4.)\n",
    "C = np.array([[d1 + omega/np.tan(theta), -omega/np.sin(theta)],[omega/np.sin(theta),d2-omega/np.tan(theta)]])\n",
    "np.linalg.eigvals(C)"
   ]
  },
  {
   "cell_type": "code",
   "execution_count": null,
   "metadata": {},
   "outputs": [],
   "source": [
    "u0 = np.array([1.,1.])\n",
    "rhs(0.5,u0)\n",
    "myivp = ivp.IVP(f=rhs,T=1.,u0=u0)"
   ]
  },
  {
   "cell_type": "code",
   "execution_count": null,
   "metadata": {},
   "outputs": [],
   "source": [
    "bs5 = rk.loadRKM('BS5').__num__()\n",
    "print(bs5)"
   ]
  },
  {
   "cell_type": "code",
   "execution_count": null,
   "metadata": {},
   "outputs": [],
   "source": [
    "t,y = bs5(myivp)\n",
    "\n",
    "plt.plot(t,y);\n",
    "plt.title(\"Lambert's example\")"
   ]
  },
  {
   "cell_type": "code",
   "execution_count": null,
   "metadata": {},
   "outputs": [],
   "source": [
    "omega = 1.\n",
    "theta = np.pi/4\n",
    "d1 = 1.j\n",
    "d2 = -1.j\n",
    "D = np.diag([d1,d2])\n",
    "\n",
    "def rhs(t,u):\n",
    "    E = np.array([[np.cos(omega*t-theta),-np.cos(omega*t)],[-np.sin(omega*t-theta),np.sin(omega*t)]])\n",
    "    print(E)\n",
    "    Einv = np.linalg.inv(E)\n",
    "    A = np.dot(E,np.dot(D,Einv))\n",
    "    #print(np.linalg.eigvals(A))\n",
    "    #print(np.dot(A,A.T)-np.dot(A.T,A))\n",
    "    #print((A+A.T))\n",
    "    return np.dot(A,u)"
   ]
  },
  {
   "cell_type": "code",
   "execution_count": null,
   "metadata": {},
   "outputs": [],
   "source": [
    "u0 = np.array([0.,1.],dtype='complex64')\n",
    "rhs(0.5,u0)\n",
    "myivp = ivp.IVP(f=rhs,T=5.,u0=u0)"
   ]
  },
  {
   "cell_type": "code",
   "execution_count": null,
   "metadata": {},
   "outputs": [],
   "source": [
    "t,y = bs5(myivp)"
   ]
  },
  {
   "cell_type": "code",
   "execution_count": null,
   "metadata": {},
   "outputs": [],
   "source": [
    "ynorm = [np.linalg.norm(yi) for yi in y]"
   ]
  },
  {
   "cell_type": "code",
   "execution_count": null,
   "metadata": {},
   "outputs": [],
   "source": [
    "plt.plot(t,ynorm);\n",
    "plt.title(\"Modified example with purely imaginary spectrum\")"
   ]
  },
  {
   "cell_type": "code",
   "execution_count": null,
   "metadata": {},
   "outputs": [],
   "source": [
    "np.sqrt(-2+2.j)"
   ]
  },
  {
   "cell_type": "code",
   "execution_count": null,
   "metadata": {},
   "outputs": [],
   "source": [
    "t = 0.\n",
    "E0 = np.array([[np.cos(omega*t-theta),-np.cos(omega*t)],[-np.sin(omega*t-theta),np.sin(omega*t)]])"
   ]
  },
  {
   "cell_type": "code",
   "execution_count": null,
   "metadata": {},
   "outputs": [],
   "source": [
    "t=1.\n",
    "E = np.array([[np.cos(omega*t-theta),-np.cos(omega*t)],[-np.sin(omega*t-theta),np.sin(omega*t)]])\n",
    "D = np.diag([d1,d2])\n",
    "Einv = np.linalg.inv(E)\n",
    "C = np.array([[d1 + omega/np.tan(theta), -omega*np.arcsin(theta)],[omega*np.arcsin(theta),d2-omega/np.tan(theta)]])"
   ]
  },
  {
   "cell_type": "code",
   "execution_count": null,
   "metadata": {},
   "outputs": [],
   "source": [
    "import scipy.linalg\n",
    "DCexp = scipy.linalg.expm((D-C)*t)"
   ]
  },
  {
   "cell_type": "code",
   "execution_count": null,
   "metadata": {},
   "outputs": [],
   "source": [
    "DCexp-E"
   ]
  },
  {
   "cell_type": "code",
   "execution_count": null,
   "metadata": {},
   "outputs": [],
   "source": [
    "E0"
   ]
  },
  {
   "cell_type": "code",
   "execution_count": null,
   "metadata": {},
   "outputs": [],
   "source": [
    "Cexp"
   ]
  },
  {
   "cell_type": "code",
   "execution_count": null,
   "metadata": {},
   "outputs": [],
   "source": [
    "C"
   ]
  },
  {
   "cell_type": "markdown",
   "metadata": {},
   "source": [
    "# Simple plan"
   ]
  },
  {
   "cell_type": "code",
   "execution_count": null,
   "metadata": {},
   "outputs": [],
   "source": [
    "D = np.diag([-1,-10])\n",
    "C = np.diag([1,1])\n",
    "M = D-C"
   ]
  },
  {
   "cell_type": "code",
   "execution_count": null,
   "metadata": {},
   "outputs": [],
   "source": [
    "def rhs(t,u):\n",
    "    E = scipy.linalg.expm(t*M)\n",
    "    Einv = np.linalg.inv(E)\n",
    "    A = np.dot(E,np.dot(D,Einv))\n",
    "    print(np.linalg.eigvals(A))\n",
    "    #print(np.dot(A,A.T)-np.dot(A.T,A))\n",
    "    #print((A+A.T))\n",
    "    return np.dot(A,u)"
   ]
  },
  {
   "cell_type": "code",
   "execution_count": null,
   "metadata": {},
   "outputs": [],
   "source": [
    "rhs(1,u0)"
   ]
  },
  {
   "cell_type": "code",
   "execution_count": null,
   "metadata": {},
   "outputs": [],
   "source": [
    "u0 = np.array([0.,1.],dtype='complex64')\n",
    "rhs(0.5,u0)\n",
    "myivp = ivp.IVP(f=rhs,T=5.,u0=u0)\n",
    "t,y = bs5(myivp)\n",
    "plt.plot(t,y);"
   ]
  },
  {
   "cell_type": "markdown",
   "metadata": {},
   "source": [
    "# Investigating Dekker & Verwer's example further"
   ]
  },
  {
   "cell_type": "code",
   "execution_count": null,
   "metadata": {},
   "outputs": [],
   "source": [
    "theta = np.pi/5.1\n",
    "omega=1.\n",
    "M = omega*np.array([[-1./np.tan(theta),1./np.sin(theta)],[-1./np.sin(theta),1./np.tan(theta)]])\n",
    "print(M)"
   ]
  },
  {
   "cell_type": "code",
   "execution_count": null,
   "metadata": {},
   "outputs": [],
   "source": [
    "np.dot(M,M)"
   ]
  },
  {
   "cell_type": "code",
   "execution_count": null,
   "metadata": {},
   "outputs": [],
   "source": [
    "lam, XM = np.linalg.eig(M)\n",
    "lam"
   ]
  },
  {
   "cell_type": "code",
   "execution_count": null,
   "metadata": {},
   "outputs": [],
   "source": [
    "t = 3.6\n",
    "\n",
    "np.eye(2)*np.cos(omega*t) + np.sin(omega*t)*M/omega"
   ]
  },
  {
   "cell_type": "code",
   "execution_count": null,
   "metadata": {},
   "outputs": [],
   "source": [
    "ExpM = scipy.linalg.expm(t*M)\n",
    "print(ExpM)"
   ]
  },
  {
   "cell_type": "code",
   "execution_count": null,
   "metadata": {},
   "outputs": [],
   "source": [
    "X = np.array([[np.sin(theta-omega*t), np.sin(omega*t)],[-np.sin(omega*t),np.sin(theta+omega*t)]])/np.sin(theta)\n",
    "print(X)"
   ]
  },
  {
   "cell_type": "code",
   "execution_count": null,
   "metadata": {},
   "outputs": [],
   "source": [
    "E = np.array([[np.cos(omega*t-theta),-np.cos(omega*t)],[-np.sin(omega*t-theta),np.sin(omega*t)]])\n",
    "print(E)"
   ]
  },
  {
   "cell_type": "code",
   "execution_count": null,
   "metadata": {},
   "outputs": [],
   "source": [
    "U = np.dot(E,np.linalg.inv(X))\n",
    "print(U)"
   ]
  },
  {
   "cell_type": "code",
   "execution_count": null,
   "metadata": {},
   "outputs": [],
   "source": [
    "Enew = np.dot(U,scipy.linalg.expm((D-C)*t))\n",
    "\n",
    "Enew"
   ]
  },
  {
   "cell_type": "code",
   "execution_count": null,
   "metadata": {},
   "outputs": [],
   "source": [
    "scipy.linalg.expm((D-C)*t)"
   ]
  },
  {
   "cell_type": "code",
   "execution_count": null,
   "metadata": {},
   "outputs": [],
   "source": [
    "V=np.linalg.inv(U)"
   ]
  },
  {
   "cell_type": "code",
   "execution_count": null,
   "metadata": {},
   "outputs": [],
   "source": [
    "np.dot(U,X)-E"
   ]
  },
  {
   "cell_type": "code",
   "execution_count": null,
   "metadata": {},
   "outputs": [],
   "source": [
    "N=scipy.linalg.logm(np.dot(V,E))/t\n",
    "print(N)"
   ]
  },
  {
   "cell_type": "code",
   "execution_count": null,
   "metadata": {},
   "outputs": [],
   "source": [
    "M"
   ]
  },
  {
   "cell_type": "code",
   "execution_count": null,
   "metadata": {},
   "outputs": [],
   "source": [
    "M/N"
   ]
  },
  {
   "cell_type": "code",
   "execution_count": null,
   "metadata": {},
   "outputs": [],
   "source": [
    "MX = np.array([[1.,1.],[np.exp(1j*theta),np.exp(-1j*theta)]])/np.sqrt(2)\n",
    "MX = np.array([[np.cos(theta),np.sin(theta)],[np.sin(theta),-np.cos(theta)]])\n",
    "MM = omega*np.dot(MX,np.dot(np.diag([1.j,-1.j]),np.linalg.inv(MX)))\n",
    "MM = omega*np.dot(MX,np.dot(np.diag([1.,-1.]),np.linalg.inv(MX)))\n",
    "print(MM-M)\n",
    "U = np.array([[np.cos(theta),-1.],[np.sin(theta),0]])\n",
    "EE = np.dot(U,scipy.linalg.expm(M*t))\n",
    "print(EE-E)\n",
    "print(MM)"
   ]
  },
  {
   "cell_type": "code",
   "execution_count": null,
   "metadata": {},
   "outputs": [],
   "source": [
    "omega = 6.\n",
    "theta = np.pi/4\n",
    "d1 = -1.\n",
    "d2 = -10.\n",
    "D = np.diag([d1,d2])\n",
    "\n",
    "MX = np.array([[1.,1.],[np.exp(1j*theta),np.exp(-1j*theta)]])/np.sqrt(2)\n",
    "M = omega*np.dot(MX,np.dot(np.diag([1.j,-1.j]),np.linalg.inv(MX)))\n",
    "U = np.array([[np.cos(theta),-1.],[np.sin(theta),0]])\n",
    "U = np.eye(2)\n",
    "\n",
    "def rhs(t,u):\n",
    "    #E = np.real(np.dot(U,scipy.linalg.expm(M*t)))\n",
    "    E = np.array([[np.sin(theta-omega*t),np.sin(omega*t)],[-np.sin(omega*t),np.sin(theta+omega*t)]])\n",
    "    #E = np.array([[np.cos(omega*t-theta),-np.cos(omega*t)],[-np.sin(omega*t-theta),np.sin(omega*t)]])\n",
    "    Einv = np.linalg.inv(E)\n",
    "    A = np.dot(E,np.dot(D,Einv))\n",
    "    #print(A)\n",
    "    #print(np.linalg.eigvals(A))\n",
    "    #print(np.dot(A,A.T)-np.dot(A.T,A))\n",
    "    #print((A+A.T))\n",
    "    return np.dot(A,u)"
   ]
  },
  {
   "cell_type": "code",
   "execution_count": null,
   "metadata": {},
   "outputs": [],
   "source": [
    "u0 = np.array([1.,1.])\n",
    "rhs(0.5,u0)\n",
    "myivp = ivp.IVP(f=rhs,T=10.,u0=u0)"
   ]
  },
  {
   "cell_type": "code",
   "execution_count": null,
   "metadata": {},
   "outputs": [],
   "source": [
    "t,y = bs5(myivp)\n",
    "plt.plot(t,y);\n",
    "plt.title(\"Lambert's example\")"
   ]
  },
  {
   "cell_type": "code",
   "execution_count": null,
   "metadata": {},
   "outputs": [],
   "source": [
    "t=1.2\n",
    "E = np.array([[np.sin(theta-omega*t),np.sin(omega*t)],[-np.sin(omega*t),np.sin(theta+omega*t)]])\n",
    "np.linalg.det(E)"
   ]
  },
  {
   "cell_type": "code",
   "execution_count": null,
   "metadata": {},
   "outputs": [],
   "source": [
    "newM = 2*omega*np.sin(theta)*np.array([[-np.cos(theta),1.],[-1.,np.cos(theta)]])\n",
    "newE = np.array([[np.sin(theta-omega*t),np.sin(omega*t)],[-np.sin(omega*t),np.sin(theta+omega*t)]])"
   ]
  },
  {
   "cell_type": "code",
   "execution_count": null,
   "metadata": {},
   "outputs": [],
   "source": [
    "em = scipy.linalg.expm(M*t)\n",
    "newE-em"
   ]
  },
  {
   "cell_type": "code",
   "execution_count": null,
   "metadata": {},
   "outputs": [],
   "source": [
    "em"
   ]
  },
  {
   "cell_type": "code",
   "execution_count": null,
   "metadata": {},
   "outputs": [],
   "source": [
    "newE"
   ]
  },
  {
   "cell_type": "code",
   "execution_count": null,
   "metadata": {},
   "outputs": [],
   "source": [
    "newM"
   ]
  },
  {
   "cell_type": "code",
   "execution_count": null,
   "metadata": {},
   "outputs": [],
   "source": [
    "t"
   ]
  },
  {
   "cell_type": "code",
   "execution_count": null,
   "metadata": {},
   "outputs": [],
   "source": [
    "np.dot(newM,newM)/omega**2"
   ]
  },
  {
   "cell_type": "code",
   "execution_count": null,
   "metadata": {},
   "outputs": [],
   "source": []
  }
 ],
 "metadata": {
  "kernelspec": {
   "display_name": "Python 3",
   "language": "python",
   "name": "python3"
  },
  "language_info": {
   "codemirror_mode": {
    "name": "ipython",
    "version": 3
   },
   "file_extension": ".py",
   "mimetype": "text/x-python",
   "name": "python",
   "nbconvert_exporter": "python",
   "pygments_lexer": "ipython3",
   "version": "3.6.5"
  },
  "toc": {
   "base_numbering": 1,
   "nav_menu": {},
   "number_sections": true,
   "sideBar": true,
   "skip_h1_title": false,
   "title_cell": "Table of Contents",
   "title_sidebar": "Contents",
   "toc_cell": false,
   "toc_position": {},
   "toc_section_display": true,
   "toc_window_display": false
  }
 },
 "nbformat": 4,
 "nbformat_minor": 2
}
