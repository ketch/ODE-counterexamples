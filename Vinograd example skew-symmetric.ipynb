{
 "cells": [
  {
   "cell_type": "code",
   "execution_count": null,
   "metadata": {},
   "outputs": [],
   "source": [
    "import numpy as np\n",
    "import matplotlib.pyplot as plt\n",
    "from nodepy import rk, ivp"
   ]
  },
  {
   "cell_type": "code",
   "execution_count": null,
   "metadata": {},
   "outputs": [],
   "source": [
    "omega = 6.\n",
    "theta = np.pi/4\n",
    "d1 = -1.\n",
    "d2 = -10.\n",
    "\n",
    "def rhs(t,u):\n",
    "    E = np.array([[np.cos(omega*t-theta),-np.cos(omega*t)],[-np.sin(omega*t-theta),np.sin(omega*t)]])\n",
    "    D = np.diag([d1,d2])\n",
    "    Einv = np.linalg.inv(E)\n",
    "    A = np.dot(E,np.dot(D,Einv))\n",
    "    #print(np.linalg.eigvals(A))\n",
    "    return np.dot(A,u)"
   ]
  },
  {
   "cell_type": "code",
   "execution_count": null,
   "metadata": {},
   "outputs": [],
   "source": [
    "u0 = np.array([1.,1.])\n",
    "rhs(0.5,u0)\n",
    "myivp = ivp.IVP(f=rhs,T=1.,u0=u0)"
   ]
  },
  {
   "cell_type": "code",
   "execution_count": null,
   "metadata": {},
   "outputs": [],
   "source": [
    "bs5 = rk.loadRKM('BS5')"
   ]
  },
  {
   "cell_type": "code",
   "execution_count": null,
   "metadata": {},
   "outputs": [],
   "source": [
    "t,y = bs5(myivp)"
   ]
  },
  {
   "cell_type": "code",
   "execution_count": null,
   "metadata": {},
   "outputs": [],
   "source": [
    "plt.plot(t,y);\n",
    "plt.title(\"Lambert's example\")"
   ]
  },
  {
   "cell_type": "code",
   "execution_count": null,
   "metadata": {},
   "outputs": [],
   "source": [
    "omega = 1.\n",
    "theta = np.pi/4\n",
    "d1 = 1.j\n",
    "d2 = -1.j\n",
    "\n",
    "def rhs(t,u):\n",
    "    E = np.array([[np.cos(omega*t-theta),-np.cos(omega*t)],[-np.sin(omega*t-theta),np.sin(omega*t)]])\n",
    "    D = np.diag([d1,d2])\n",
    "    Einv = np.linalg.inv(E)\n",
    "    A = np.dot(E,np.dot(D,Einv))\n",
    "    #print(np.linalg.eigvals(A))\n",
    "    #print(A)\n",
    "    return np.dot(A,u)"
   ]
  },
  {
   "cell_type": "code",
   "execution_count": null,
   "metadata": {},
   "outputs": [],
   "source": [
    "u0 = np.array([0.,1.],dtype='complex64')\n",
    "rhs(0.5,u0)\n",
    "myivp = ivp.IVP(f=rhs,T=5.,u0=u0)"
   ]
  },
  {
   "cell_type": "code",
   "execution_count": null,
   "metadata": {},
   "outputs": [],
   "source": [
    "t,y = bs5(myivp)"
   ]
  },
  {
   "cell_type": "code",
   "execution_count": null,
   "metadata": {},
   "outputs": [],
   "source": [
    "ynorm = [np.linalg.norm(yi) for yi in y]"
   ]
  },
  {
   "cell_type": "code",
   "execution_count": null,
   "metadata": {},
   "outputs": [],
   "source": [
    "plt.plot(t,ynorm);\n",
    "plt.title(\"Modified example with skew-Hermitian RHS\")"
   ]
  },
  {
   "cell_type": "code",
   "execution_count": null,
   "metadata": {},
   "outputs": [],
   "source": [
    "np.sqrt(-2+2.j)"
   ]
  }
 ],
 "metadata": {
  "kernelspec": {
   "display_name": "Python 3",
   "language": "python",
   "name": "python3"
  },
  "language_info": {
   "codemirror_mode": {
    "name": "ipython",
    "version": 3
   },
   "file_extension": ".py",
   "mimetype": "text/x-python",
   "name": "python",
   "nbconvert_exporter": "python",
   "pygments_lexer": "ipython3",
   "version": "3.6.5"
  },
  "toc": {
   "base_numbering": 1,
   "nav_menu": {},
   "number_sections": true,
   "sideBar": true,
   "skip_h1_title": false,
   "title_cell": "Table of Contents",
   "title_sidebar": "Contents",
   "toc_cell": false,
   "toc_position": {},
   "toc_section_display": true,
   "toc_window_display": false
  }
 },
 "nbformat": 4,
 "nbformat_minor": 2
}
