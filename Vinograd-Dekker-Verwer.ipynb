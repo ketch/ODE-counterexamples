{
 "cells": [
  {
   "cell_type": "code",
   "execution_count": null,
   "metadata": {},
   "outputs": [],
   "source": [
    "import numpy as np\n",
    "import matplotlib.pyplot as plt\n",
    "from nodepy import rk, ivp\n",
    "from sympy import Matrix, cos, sin, symbols, det, simplify, trace\n",
    "from ipywidgets import interact"
   ]
  },
  {
   "cell_type": "markdown",
   "metadata": {},
   "source": [
    "We first look at an example in which $A$ is constant (but non-normal), with negative real eigenvalues."
   ]
  },
  {
   "cell_type": "code",
   "execution_count": null,
   "metadata": {},
   "outputs": [],
   "source": [
    "omega = 1.\n",
    "theta = np.pi/4\n",
    "d1 = -1.\n",
    "d2 = -10.\n",
    "\n",
    "R = np.array([[ np.cos(omega-theta),-np.cos(omega)],\n",
    "              [-np.sin(omega-theta), np.sin(omega)]])\n",
    "D = np.diag([d1,d2])\n",
    "Rinv = np.linalg.inv(R)\n",
    "A = np.dot(R,np.dot(D,Rinv))\n",
    "print(\"Eigenvalues: \", np.linalg.eigvals(A))\n",
    "\n",
    "def rhs(t,u):\n",
    "    return np.dot(A,u)"
   ]
  },
  {
   "cell_type": "code",
   "execution_count": null,
   "metadata": {},
   "outputs": [],
   "source": [
    "u0 = np.array([1.,1.])\n",
    "rhs(0.5,u0)\n",
    "myivp = ivp.IVP(f=rhs,T=20.,u0=u0)\n",
    "\n",
    "bs5 = rk.loadRKM('BS5')\n",
    "\n",
    "t,y = bs5(myivp)\n",
    "\n",
    "plt.plot(t,y);\n",
    "plt.xlabel('$t$'); plt.ylabel('$y(t)$')\n",
    "t = np.array(t);"
   ]
  },
  {
   "cell_type": "markdown",
   "metadata": {},
   "source": [
    "Notice that the components of $y$ can grow initially even though the eigenvalues\n",
    "of $A$ are negative.  This is due to the non-normality of $A$.  In fact, $y$ is\n",
    "monotonically decaying **when expressed in the basis of the eigenvectors of $A$**\n",
    "but not in the traditional basis.  We can see this by defining\n",
    "$$\n",
    "    Rz = y\n",
    "$$\n",
    "and looking at the behavior of the components of $z$."
   ]
  },
  {
   "cell_type": "code",
   "execution_count": null,
   "metadata": {},
   "outputs": [],
   "source": [
    "z = [Rinv@yy for yy in y]\n",
    "plt.plot(t,z)\n",
    "plt.plot(t,np.exp(-1*t)*z[0][0],'--k',alpha=0.5)\n",
    "plt.plot(t,np.exp(-10*t)*z[0][1],'--',alpha=0.5);\n",
    "plt.xlabel('$t$'); plt.ylabel('$z(t)$');"
   ]
  },
  {
   "cell_type": "markdown",
   "metadata": {},
   "source": [
    "We can also understand this behavior by plotting the solution $y$ along\n",
    "with its decomposition in the basis of the eigenvectors $R$.  Notice how\n",
    "contraction of the second component (the green vector) actually moves the\n",
    "solution away from the origin initially."
   ]
  },
  {
   "cell_type": "code",
   "execution_count": null,
   "metadata": {},
   "outputs": [],
   "source": [
    "def plot_frame(i=0):\n",
    "    plt.plot(y[i][0],y[i][1],'ok')\n",
    "    plt.plot([-2,2],[0,0],'--k')\n",
    "    plt.plot([0,0],[-2,2],'--k')\n",
    "    plt.xlim(-2,2);\n",
    "    plt.ylim(-2,2);\n",
    "    x1 = z[i][0]*R[0,0]\n",
    "    x2 = z[i][0]*R[1,0]\n",
    "    plt.plot([0,x1],[0,x2],'-b')\n",
    "    plt.plot([x1,x1+z[i][1]*R[0,1]],[x2,x2+z[i][1]*R[1,1]],'-g')\n",
    "\n",
    "interact(plot_frame,i=(0,len(y),1));"
   ]
  },
  {
   "cell_type": "markdown",
   "metadata": {},
   "source": [
    "Now let's look at the case of time-dependent $A$.  We set it up so that the eigenvalues\n",
    "are time-independent and the same as before."
   ]
  },
  {
   "cell_type": "code",
   "execution_count": null,
   "metadata": {},
   "outputs": [],
   "source": [
    "omega = 1.\n",
    "theta = np.pi/4\n",
    "d1 = -1.\n",
    "d2 = -10.\n",
    "\n",
    "def rhs(t,u):\n",
    "    R = np.array([[ np.cos(omega*t-theta),-np.cos(omega*t)],\n",
    "                  [-np.sin(omega*t-theta), np.sin(omega*t)]])\n",
    "    D = np.diag([d1,d2])\n",
    "    Rinv = np.linalg.inv(R)\n",
    "    A = np.dot(R,np.dot(D,Rinv))\n",
    "    return np.dot(A,u)"
   ]
  },
  {
   "cell_type": "code",
   "execution_count": null,
   "metadata": {},
   "outputs": [],
   "source": [
    "omeg, thet, tt = symbols(\"omeg, thet, tt\")\n",
    "Rs = Matrix([[ cos(omeg*tt-thet), -cos(omeg*tt)],\n",
    "            [-sin(omeg*tt-thet),  sin(omeg*tt)]])\n",
    "Ds = Matrix([[d1, 0],\n",
    "             [0, d2]])\n",
    "M = Rs@Ds@Rs.inv()\n",
    "print(M.eigenvals())"
   ]
  },
  {
   "cell_type": "code",
   "execution_count": null,
   "metadata": {},
   "outputs": [],
   "source": [
    "u0 = np.array([1.,1.])\n",
    "rhs(0.5,u0)\n",
    "myivp = ivp.IVP(f=rhs,T=20.,u0=u0)\n",
    "\n",
    "bs5 = rk.loadRKM('BS5')\n",
    "\n",
    "t,y = bs5(myivp)\n",
    "\n",
    "plt.plot(t,y);\n",
    "t = np.array(t);\n",
    "plt.title(\"Lambert's example\");"
   ]
  },
  {
   "cell_type": "markdown",
   "metadata": {},
   "source": [
    "For this particular case we still see decay, but at a much slower rate than\n",
    "expected and with some additional oscillation."
   ]
  },
  {
   "cell_type": "markdown",
   "metadata": {},
   "source": [
    "# Vinograd-Dekker-Verwer example."
   ]
  },
  {
   "cell_type": "markdown",
   "metadata": {},
   "source": [
    "Finally, let's look at a case where the solution blows up even though the eigenvalues of $A(t)$\n",
    "are the same as before.  This is the case presented by Dekker & Verwer, taken originally from Vinograd."
   ]
  },
  {
   "cell_type": "code",
   "execution_count": null,
   "metadata": {},
   "outputs": [],
   "source": [
    "omega = 1.\n",
    "theta = np.pi/4\n",
    "d1 = 1.j\n",
    "d2 = -1.j\n",
    "#d1 = -1\n",
    "#d2 = -10\n",
    "#omega = 6.\n",
    "#theta = np.arctan(3/4.)\n",
    "\n",
    "def rhs(t,u):\n",
    "    R = np.array([[np.cos(omega*t-theta),-np.cos(omega*t)],\n",
    "                  [-np.sin(omega*t-theta),np.sin(omega*t)]])\n",
    "    D = np.diag([d1,d2])\n",
    "    Rinv = np.linalg.inv(R)\n",
    "    A = np.dot(R,np.dot(D,Rinv))\n",
    "    return np.dot(A,u)"
   ]
  },
  {
   "cell_type": "code",
   "execution_count": null,
   "metadata": {},
   "outputs": [],
   "source": [
    "u0 = np.array([0.,1.],dtype='complex64')\n",
    "rhs(0.5,u0)\n",
    "myivp = ivp.IVP(f=rhs,T=5.,u0=u0)\n",
    "\n",
    "t,y = bs5(myivp)\n",
    "\n",
    "ynorm = [np.linalg.norm(yi) for yi in y]\n",
    "\n",
    "plt.plot(t,ynorm);\n",
    "plt.title(\"Norm of $y(t)$\");"
   ]
  },
  {
   "cell_type": "markdown",
   "metadata": {},
   "source": [
    "We can calculate the expected rate of growth based on the eigenvalues of another matrix:"
   ]
  },
  {
   "cell_type": "code",
   "execution_count": null,
   "metadata": {},
   "outputs": [],
   "source": [
    "M = np.array([[d1+omega/np.tan(theta), -omega/np.sin(theta)],\n",
    "              [omega/np.sin(theta), d2-omega/np.tan(theta)]]);\n",
    "rate = np.max(np.real(np.linalg.eigvals(M)))\n",
    "rate"
   ]
  },
  {
   "cell_type": "code",
   "execution_count": null,
   "metadata": {},
   "outputs": [],
   "source": [
    "plt.plot(t,ynorm)\n",
    "plt.plot(t,np.exp(rate*np.array(t)))\n",
    "plt.legend([r'$\\|y(t)\\|$',r'$\\exp(\\alpha t)$']);"
   ]
  },
  {
   "cell_type": "code",
   "execution_count": null,
   "metadata": {},
   "outputs": [],
   "source": [
    "lim = 5\n",
    "def plot_frame(i=0):\n",
    "    tt = t[i]\n",
    "    R = np.array([[np.cos(omega*tt-theta),-np.cos(omega*tt)],\n",
    "                  [-np.sin(omega*tt-theta),np.sin(omega*tt)]])\n",
    "    Rinv = np.linalg.inv(R)\n",
    "    z = Rinv@y[i]\n",
    "    plt.plot(y[i][0],y[i][1],'ok')\n",
    "    plt.plot([-lim,lim],[0,0],'--k')\n",
    "    plt.plot([0,0],[-lim,lim],'--k')\n",
    "    plt.xlim(-lim,lim);\n",
    "    plt.ylim(-lim,lim);\n",
    "    x1 = z[0]*R[0,0]\n",
    "    x2 = z[0]*R[1,0]\n",
    "    plt.plot([0,x1],[0,x2],'-b')\n",
    "    plt.plot([x1,x1+z[1]*R[0,1]],[x2,x2+z[1]*R[1,1]],'-g')\n",
    "\n",
    "interact(plot_frame,i=(0,len(y)-1,10));"
   ]
  },
  {
   "cell_type": "markdown",
   "metadata": {},
   "source": [
    "I thought that this plot would reveal what is going on, but so far\n",
    "I don't understand it."
   ]
  }
 ],
 "metadata": {
  "kernelspec": {
   "display_name": "Python 3 (ipykernel)",
   "language": "python",
   "name": "python3"
  },
  "language_info": {
   "codemirror_mode": {
    "name": "ipython",
    "version": 3
   },
   "file_extension": ".py",
   "mimetype": "text/x-python",
   "name": "python",
   "nbconvert_exporter": "python",
   "pygments_lexer": "ipython3",
   "version": "3.11.4"
  },
  "toc": {
   "base_numbering": 1,
   "nav_menu": {},
   "number_sections": true,
   "sideBar": true,
   "skip_h1_title": false,
   "title_cell": "Table of Contents",
   "title_sidebar": "Contents",
   "toc_cell": false,
   "toc_position": {},
   "toc_section_display": true,
   "toc_window_display": false
  }
 },
 "nbformat": 4,
 "nbformat_minor": 4
}
